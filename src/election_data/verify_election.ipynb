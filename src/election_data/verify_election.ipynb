{
 "cells": [
  {
   "attachments": {},
   "cell_type": "markdown",
   "metadata": {},
   "source": [
    "### Election Verification Duplicate data for convenience"
   ]
  },
  {
   "cell_type": "code",
   "execution_count": 1,
   "metadata": {},
   "outputs": [],
   "source": [
    "import json\n",
    "from verifyers import *"
   ]
  },
  {
   "cell_type": "code",
   "execution_count": 2,
   "metadata": {},
   "outputs": [],
   "source": [
    "with open(f'data/election_data_restructured_int.json') as f:\n",
    "    json_data = f.read()\n",
    "all_questions_all_answers = json.loads(json_data)"
   ]
  },
  {
   "cell_type": "code",
   "execution_count": 3,
   "metadata": {},
   "outputs": [
    {
     "name": "stdout",
     "output_type": "stream",
     "text": [
      "total verification result True\n"
     ]
    }
   ],
   "source": [
    "# verify all 3 orioerties\n",
    "R = True\n",
    "for one_question_all_answers in all_questions_all_answers:\n",
    "\n",
    "        result_verification = verify_result(one_question_all_answers['result_data'])\n",
    "        # print(f\"result verification result {one_question_all_answers['result_data']['result']}\")\n",
    "        R = R and result_verification\n",
    "\n",
    "print(f'total verification result {R}')"
   ]
  },
  {
   "cell_type": "code",
   "execution_count": null,
   "metadata": {},
   "outputs": [],
   "source": [
    "# verify all 3 orioerties\n",
    "R = True\n",
    "for one_question_all_answers in all_questions_all_answers:\n",
    "\n",
    "        result_verification = verify_result(one_question_all_answers['result_data'])\n",
    "        # print(f\"result verification result {one_question_all_answers['result_data']['result']}\")\n",
    "        R = R and result_verification\n",
    "        \n",
    "        for trustee in one_question_all_answers['trustees_data']:\n",
    "                decryption_verification = verify_decryption(trustee['public_key'], trustee['decryption_factor'], trustee['decryption_proofs'], trustee['alphas'])\n",
    "                R = R and decryption_verification\n",
    "                # print(f'decryption verification result {decryption_verification}')\n",
    "\n",
    "        for individual_answer in one_question_all_answers['answers_data']:\n",
    "\n",
    "                individual_proofs_verified = verify_encryption(individual_answer[\"individual_proofs\"], \n",
    "                                                               individual_answer[\"choice\"][\"alphas\"], \n",
    "                                                               individual_answer[\"choice\"][\"betas\"], \n",
    "                                                               individual_answer[\"trustees_public_keys\"])\n",
    "                \n",
    "                overal_proofs_verified = verify_encryption(individual_answer[\"overall_proofs\"],\n",
    "                                                           individual_answer[\"choice\"][\"alphas\"], \n",
    "                                                           individual_answer[\"choice\"][\"betas\"], \n",
    "                                                           individual_answer[\"trustees_public_keys\"])\n",
    "                \n",
    "                R = R and individual_proofs_verified and overal_proofs_verified\n",
    "                #print(f'individual verification result {individual_proofs_verified}')\n",
    "                #print(f'overall verification result {overal_proofs_verified}')\n",
    "\n",
    "print(f'total verification result {R}')"
   ]
  },
  {
   "cell_type": "code",
   "execution_count": null,
   "metadata": {},
   "outputs": [],
   "source": []
  },
  {
   "cell_type": "code",
   "execution_count": null,
   "metadata": {},
   "outputs": [],
   "source": []
  },
  {
   "cell_type": "code",
   "execution_count": null,
   "metadata": {},
   "outputs": [],
   "source": []
  },
  {
   "cell_type": "code",
   "execution_count": 10,
   "metadata": {},
   "outputs": [],
   "source": [
    "with open(f'data/election_data_restructured_int.json') as f:\n",
    "    json_data = f.read()\n",
    "all_questions_all_answers = json.loads(json_data)"
   ]
  },
  {
   "cell_type": "code",
   "execution_count": 11,
   "metadata": {},
   "outputs": [
    {
     "data": {
      "text/plain": [
       "dict_keys(['betas', 'trustees_public_keys', 'decryption_factors', 'result'])"
      ]
     },
     "execution_count": 11,
     "metadata": {},
     "output_type": "execute_result"
    }
   ],
   "source": [
    "all_questions_all_answers[0]['result_data'].keys()"
   ]
  },
  {
   "cell_type": "code",
   "execution_count": 12,
   "metadata": {},
   "outputs": [
    {
     "data": {
      "text/plain": [
       "dict_keys(['ys', 'g', 'p', 'q'])"
      ]
     },
     "execution_count": 12,
     "metadata": {},
     "output_type": "execute_result"
    }
   ],
   "source": [
    "all_questions_all_answers[0]['result_data']['trustees_public_keys'].keys()"
   ]
  },
  {
   "cell_type": "code",
   "execution_count": null,
   "metadata": {},
   "outputs": [],
   "source": [
    "∑"
   ]
  },
  {
   "cell_type": "code",
   "execution_count": null,
   "metadata": {},
   "outputs": [],
   "source": [
    "R = True\n",
    "for one_question_all_answers in all_questions_all_answers:\n",
    "        print(one_question_all_answers.keys())\n",
    "        result_verification = verify_result(one_question_all_answers['result_data'])\n",
    "        print(f\"result verification result {one_question_all_answers['result_data']['result']}\")\n",
    "        R = R and result_verification"
   ]
  }
 ],
 "metadata": {
  "kernelspec": {
   "display_name": "Python 3",
   "language": "python",
   "name": "python3"
  },
  "language_info": {
   "codemirror_mode": {
    "name": "ipython",
    "version": 3
   },
   "file_extension": ".py",
   "mimetype": "text/x-python",
   "name": "python",
   "nbconvert_exporter": "python",
   "pygments_lexer": "ipython3",
   "version": "3.9.13"
  },
  "orig_nbformat": 4,
  "vscode": {
   "interpreter": {
    "hash": "5c7b89af1651d0b8571dde13640ecdccf7d5a6204171d6ab33e7c296e100e08a"
   }
  }
 },
 "nbformat": 4,
 "nbformat_minor": 2
}
